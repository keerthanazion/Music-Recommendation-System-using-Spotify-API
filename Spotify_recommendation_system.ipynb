{
  "nbformat": 4,
  "nbformat_minor": 0,
  "metadata": {
    "colab": {
      "provenance": []
    },
    "kernelspec": {
      "name": "python3",
      "display_name": "Python 3"
    },
    "language_info": {
      "name": "python"
    }
  },
  "cells": [
    {
      "cell_type": "markdown",
      "source": [
        "**Generating access token**\n",
        "\n",
        "This Python code interacts with the Spotify API to request an access token using the Client Credentials flow. It starts by importing the necessary libraries, requests for making HTTP requests and base64 for encoding. The CLIENT_ID and CLIENT_SECRET are combined and Base64 encoded for secure authorization. This encoded string is then used in an HTTP POST request to Spotify's token endpoint, along with a data payload specifying the grant_type as \"client_credentials\"."
      ],
      "metadata": {
        "id": "rvAktdMx5gfa"
      }
    },
    {
      "cell_type": "code",
      "execution_count": null,
      "metadata": {
        "colab": {
          "base_uri": "https://localhost:8080/"
        },
        "id": "vqj05cp9Mc9n",
        "outputId": "6bb39a90-239a-4081-8667-6bd1243e973f"
      },
      "outputs": [
        {
          "output_type": "stream",
          "name": "stdout",
          "text": [
            "Access token obtained successfully.\n"
          ]
        }
      ],
      "source": [
        "import requests\n",
        "import base64\n",
        "\n",
        "CLIENT_ID = 'f{Your client id}'\n",
        "CLIENT_SECRET = 'f{Your client secret}'\n",
        "\n",
        "\n",
        "client_credentials = f\"{CLIENT_ID}:{CLIENT_SECRET}\"\n",
        "client_credentials_base64 = base64.b64encode(client_credentials.encode())\n",
        "\n",
        "\n",
        "token_url = 'https://accounts.spotify.com/api/token'\n",
        "headers = {\n",
        "    'Authorization': f'Basic {client_credentials_base64.decode()}'\n",
        "}\n",
        "data = {\n",
        "    'grant_type': 'client_credentials'\n",
        "}\n",
        "response = requests.post(token_url, data=data, headers=headers)\n",
        "\n",
        "if response.status_code == 200:\n",
        "    access_token = response.json()['access_token']\n",
        "    print(\"Access token obtained successfully.\")\n",
        "else:\n",
        "    print(\"Error obtaining access token.\")\n",
        "    exit()"
      ]
    },
    {
      "cell_type": "markdown",
      "source": [
        "**Defining Features**\n",
        "\n",
        "This Python function, get_trending_playlist_data, retrieves detailed information about the tracks in a given Spotify playlist using the Spotipy library. It takes a playlist ID and an access token as inputs and accesses Spotify's API to fetch the track details, such as track name, artists, album name, and album ID. Additionally, it retrieves audio features (like danceability, energy, and tempo), popularity, release date, and other metadata for each track. The function compiles this information into a list of dictionaries, which is then converted into a pandas DataFrame, making the data easily accessible for further analysis or export."
      ],
      "metadata": {
        "id": "Wh3-ZlxJ7mEt"
      }
    },
    {
      "cell_type": "code",
      "source": [
        "import pandas as pd\n",
        "import spotipy\n",
        "from spotipy.oauth2 import SpotifyOAuth\n",
        "\n",
        "def get_trending_playlist_data(playlist_id, access_token):\n",
        "\n",
        "    sp = spotipy.Spotify(auth=access_token)\n",
        "\n",
        "\n",
        "    playlist_tracks = sp.playlist_tracks(playlist_id, fields='items(track(id, name, artists, album(id, name)))')\n",
        "\n",
        "\n",
        "    music_data = []\n",
        "    for track_info in playlist_tracks['items']:\n",
        "        track = track_info['track']\n",
        "        track_name = track['name']\n",
        "        artists = ', '.join([artist['name'] for artist in track['artists']])\n",
        "        album_name = track['album']['name']\n",
        "        album_id = track['album']['id']\n",
        "        track_id = track['id']\n",
        "\n",
        "\n",
        "        audio_features = sp.audio_features(track_id)[0] if track_id != 'Not available' else None\n",
        "\n",
        "\n",
        "        try:\n",
        "            album_info = sp.album(album_id) if album_id != 'Not available' else None\n",
        "            release_date = album_info['release_date'] if album_info else None\n",
        "        except:\n",
        "            release_date = None\n",
        "\n",
        "\n",
        "        try:\n",
        "            track_info = sp.track(track_id) if track_id != 'Not available' else None\n",
        "            popularity = track_info['popularity'] if track_info else None\n",
        "        except:\n",
        "            popularity = None\n",
        "\n",
        "\n",
        "        track_data = {\n",
        "            'Track Name': track_name,\n",
        "            'Artists': artists,\n",
        "            'Album Name': album_name,\n",
        "            'Album ID': album_id,\n",
        "            'Track ID': track_id,\n",
        "            'Popularity': popularity,\n",
        "            'Release Date': release_date,\n",
        "            'Duration (ms)': audio_features['duration_ms'] if audio_features else None,\n",
        "            'Explicit': track_info.get('explicit', None),\n",
        "            'External URLs': track_info.get('external_urls', {}).get('spotify', None),\n",
        "            'Danceability': audio_features['danceability'] if audio_features else None,\n",
        "            'Energy': audio_features['energy'] if audio_features else None,\n",
        "            'Key': audio_features['key'] if audio_features else None,\n",
        "            'Loudness': audio_features['loudness'] if audio_features else None,\n",
        "            'Mode': audio_features['mode'] if audio_features else None,\n",
        "            'Speechiness': audio_features['speechiness'] if audio_features else None,\n",
        "            'Acousticness': audio_features['acousticness'] if audio_features else None,\n",
        "            'Instrumentalness': audio_features['instrumentalness'] if audio_features else None,\n",
        "            'Liveness': audio_features['liveness'] if audio_features else None,\n",
        "            'Valence': audio_features['valence'] if audio_features else None,\n",
        "            'Tempo': audio_features['tempo'] if audio_features else None,\n",
        "\n",
        "        }\n",
        "\n",
        "        music_data.append(track_data)\n",
        "\n",
        "\n",
        "    df = pd.DataFrame(music_data)\n",
        "\n",
        "    return df"
      ],
      "metadata": {
        "id": "KU8ups-HMlsI"
      },
      "execution_count": null,
      "outputs": []
    },
    {
      "cell_type": "markdown",
      "source": [
        "**Retreive Music Data from Playlist**\n"
      ],
      "metadata": {
        "id": "2DdwVPuN8YHE"
      }
    },
    {
      "cell_type": "code",
      "source": [
        "playlist_id = 'https://open.spotify.com/playlist/5cfIZWLbFP5bn9C7UfxLbI?si=2bf4abeef14d40f0'\n",
        "\n",
        "music_df = get_trending_playlist_data(playlist_id, access_token)\n",
        "\n",
        "print(music_df)"
      ],
      "metadata": {
        "colab": {
          "base_uri": "https://localhost:8080/"
        },
        "id": "yNzh2R6wNZ_B",
        "outputId": "da5df810-df07-4919-bc35-1928cb3eb179"
      },
      "execution_count": null,
      "outputs": [
        {
          "output_type": "stream",
          "name": "stdout",
          "text": [
            "                                           Track Name  \\\n",
            "0                                    Main Agar Kahoon   \n",
            "1                                         Khuda Jaane   \n",
            "2                                    Ye Tune Kya Kiya   \n",
            "3                                           Tum Se Hi   \n",
            "4                                             Zara Sa   \n",
            "..                                                ...   \n",
            "63                                            O Maahi   \n",
            "64                                 Bol Na Halke Halke   \n",
            "65  Ve Kamleya (Sufi Version) (From \"Rocky Aur Ran...   \n",
            "66                              Humko Humise Chura Lo   \n",
            "67                                           Tere Bin   \n",
            "\n",
            "                                              Artists  \\\n",
            "0                          Sonu Nigam, Shreya Ghoshal   \n",
            "1   Vishal-Shekhar, KK, Shilpa Rao, Anvita Dutt Gu...   \n",
            "2                                Pritam, Javed Bashir   \n",
            "3                               Pritam, Mohit Chauhan   \n",
            "4                                          Pritam, KK   \n",
            "..                                                ...   \n",
            "63                 Pritam, Arijit Singh, Irshad Kamil   \n",
            "64  Shankar-Ehsaan-Loy, Rahat Fateh Ali Khan, Maha...   \n",
            "65  Pritam, Shadab Faridi, Altamash Faridi, Asees ...   \n",
            "66  Jatin-Lalit, Lata Mangeshkar, Udit Narayan, An...   \n",
            "67                         Sonu Nigam, Shreya Ghoshal   \n",
            "\n",
            "                                     Album Name                Album ID  \\\n",
            "0                                  Om Shanti Om  2cUzlmLfL5LUTSEk7qG09k   \n",
            "1                             Bachna Ae Haseeno  4mFLdK8SkUo3cx8ERLQC92   \n",
            "2         Once Upon Ay Time In Mumbai Dobaara !  381lOukp7nV59bJS13TkPe   \n",
            "3                                    Jab We Met  4OYdTHNgjhXzgVjbqsb0tO   \n",
            "4   Jannat (Original Motion Picture Soundtrack)  153Qw0xXJqhEFxvm9M9rE8   \n",
            "..                                          ...                     ...   \n",
            "63                                        Dunki  6mOSDGo8ZREISAbaiTMW5J   \n",
            "64                          Jhoom Barabar Jhoom  5xRsmEKZOuvwgnHJfDscnI   \n",
            "65              Rocky Aur Rani Kii Prem Kahaani  0SB9pkSJOzevi6IpIBJbwy   \n",
            "66                                  Mohabbatein  2HeqbIcBcggDsgNCHcGN1h   \n",
            "67                                        Wazir  58UGZt8xJwDCcxZlRCGNws   \n",
            "\n",
            "                  Track ID  Popularity Release Date  Duration (ms)  Explicit  \\\n",
            "0   0iXLwnLmLwn9y54JtBTNxY          65   2007-09-18         308158     False   \n",
            "1   0gPgdRfB4jdGrlyXS0Vx78          74   2008-07-05         333182     False   \n",
            "2   2cPUB8EOT6AfJ8oxhyoNXL          73   2013-07-22         314240     False   \n",
            "3   7eQl3Yqv35ioqUfveKHitE          76   2007-09-21         321225     False   \n",
            "4   18YHbIhrleUkKKj2DvEp79          72   2008-03-07         303680     False   \n",
            "..                     ...         ...          ...            ...       ...   \n",
            "63  6bmmHeCvZI92pRiTHxEdTC          73   2023-12-20         233453     False   \n",
            "64  0u8wprNfOdcWpUlWnfMcpP          68   2007-05-15         306834     False   \n",
            "65  4AvS9r14o4QFinDynqeuRx          18   2023-08-14         321818     False   \n",
            "66  4T3VAoUDvCJkX5OSYXnng0          60   2000-08-27         473025     False   \n",
            "67  3F5PXirySr1SjFZWOcSUbS          47   2015-12-18         244152     False   \n",
            "\n",
            "                                        External URLs  ...  Energy  Key  \\\n",
            "0   https://open.spotify.com/track/0iXLwnLmLwn9y54...  ...   0.436    5   \n",
            "1   https://open.spotify.com/track/0gPgdRfB4jdGrly...  ...   0.634    8   \n",
            "2   https://open.spotify.com/track/2cPUB8EOT6AfJ8o...  ...   0.798    7   \n",
            "3   https://open.spotify.com/track/7eQl3Yqv35ioqUf...  ...   0.538    6   \n",
            "4   https://open.spotify.com/track/18YHbIhrleUkKKj...  ...   0.910   11   \n",
            "..                                                ...  ...     ...  ...   \n",
            "63  https://open.spotify.com/track/6bmmHeCvZI92pRi...  ...   0.669    1   \n",
            "64  https://open.spotify.com/track/0u8wprNfOdcWpUl...  ...   0.573   11   \n",
            "65  https://open.spotify.com/track/4AvS9r14o4QFinD...  ...   0.763    2   \n",
            "66  https://open.spotify.com/track/4T3VAoUDvCJkX5O...  ...   0.506    6   \n",
            "67  https://open.spotify.com/track/3F5PXirySr1SjFZ...  ...   0.324    0   \n",
            "\n",
            "    Loudness  Mode  Speechiness  Acousticness  Instrumentalness  Liveness  \\\n",
            "0     -7.521     0       0.0276         0.234          0.000003    0.4600   \n",
            "1     -5.979     1       0.0398         0.411          0.000526    0.1060   \n",
            "2     -6.010     1       0.0699         0.580          0.000000    0.1110   \n",
            "3     -7.842     1       0.0273         0.328          0.000000    0.1250   \n",
            "4     -3.057     0       0.0510         0.120          0.000304    0.2710   \n",
            "..       ...   ...          ...           ...               ...       ...   \n",
            "63    -6.836     1       0.0349         0.562          0.000000    0.1770   \n",
            "64    -6.690     0       0.0491         0.279          0.000003    0.0617   \n",
            "65    -7.393     1       0.2170         0.415          0.000001    0.0687   \n",
            "66   -13.684     0       0.0495         0.492          0.000442    0.1890   \n",
            "67   -10.749     1       0.0380         0.914          0.004790    0.0996   \n",
            "\n",
            "    Valence    Tempo  \n",
            "0     0.371  146.868  \n",
            "1     0.702   78.508  \n",
            "2     0.728   91.960  \n",
            "3     0.608  130.015  \n",
            "4     0.694  163.842  \n",
            "..      ...      ...  \n",
            "63    0.475  116.973  \n",
            "64    0.704   90.017  \n",
            "65    0.452  175.448  \n",
            "66    0.641   85.628  \n",
            "67    0.433  179.983  \n",
            "\n",
            "[68 rows x 21 columns]\n"
          ]
        }
      ]
    },
    {
      "cell_type": "code",
      "source": [
        "print(music_df.isnull().sum())"
      ],
      "metadata": {
        "colab": {
          "base_uri": "https://localhost:8080/"
        },
        "id": "HXyeqyBiOevp",
        "outputId": "9e36869a-c63c-49c8-aaf3-2539ec4b5fcd"
      },
      "execution_count": null,
      "outputs": [
        {
          "output_type": "stream",
          "name": "stdout",
          "text": [
            "Track Name          0\n",
            "Artists             0\n",
            "Album Name          0\n",
            "Album ID            0\n",
            "Track ID            0\n",
            "Popularity          0\n",
            "Release Date        0\n",
            "Duration (ms)       0\n",
            "Explicit            0\n",
            "External URLs       0\n",
            "Danceability        0\n",
            "Energy              0\n",
            "Key                 0\n",
            "Loudness            0\n",
            "Mode                0\n",
            "Speechiness         0\n",
            "Acousticness        0\n",
            "Instrumentalness    0\n",
            "Liveness            0\n",
            "Valence             0\n",
            "Tempo               0\n",
            "dtype: int64\n"
          ]
        }
      ]
    },
    {
      "cell_type": "markdown",
      "source": [
        "**Importing the Dependencies**"
      ],
      "metadata": {
        "id": "6eROSlOZ8mz5"
      }
    },
    {
      "cell_type": "code",
      "source": [
        "import pandas as pd\n",
        "import numpy as np\n",
        "from sklearn.model_selection import train_test_split\n",
        "from sklearn.preprocessing import MinMaxScaler\n",
        "from datetime import datetime\n",
        "from sklearn.metrics.pairwise import cosine_similarity\n",
        "\n",
        "data = music_df"
      ],
      "metadata": {
        "id": "Rr7r1KY7Op1f"
      },
      "execution_count": null,
      "outputs": []
    },
    {
      "cell_type": "markdown",
      "source": [
        "**Defining Weight of tracks**\n",
        "\n",
        "The function calculate_weighted_popularity calculates a weight for a track's popularity based on its release date. It first converts the provided release date (in the format 'YYYY-MM-DD') into a Python datetime object. Then, it calculates the time span between the release date and the current date. The weight is inversely proportional to the time span, meaning that more recent releases receive a higher weight. This weight can be used to adjust a track's popularity score, giving newer releases more influence in the ranking or analysis."
      ],
      "metadata": {
        "id": "rQk_STJz9HMX"
      }
    },
    {
      "cell_type": "code",
      "source": [
        "def calculate_weighted_popularity(release_date):\n",
        "\n",
        "    release_date = datetime.strptime(release_date, '%Y-%m-%d')\n",
        "\n",
        "\n",
        "    time_span = datetime.now() - release_date\n",
        "\n",
        "    weight = 1 / (time_span.days + 1)\n",
        "    return weight"
      ],
      "metadata": {
        "id": "HSp7REM8Ox1h"
      },
      "execution_count": null,
      "outputs": []
    },
    {
      "cell_type": "markdown",
      "source": [
        "**Normalising Features**\n",
        "\n",
        "This code snippet uses MinMaxScaler from the sklearn.preprocessing module to normalize a set of music feature values. It first selects specific columns from a DataFrame music_df, which represent various audio features such as danceability, energy, loudness, tempo, and others. These features are then extracted as a NumPy array using the .values method. The MinMaxScaler scales each feature to a range between 0 and 1 by fitting it to the data and then transforming it. The result, music_features_scaled, contains the normalized feature values, making the data more suitable for machine learning algorithms."
      ],
      "metadata": {
        "id": "4HrlRZIV9s5y"
      }
    },
    {
      "cell_type": "code",
      "source": [
        "scaler = MinMaxScaler()\n",
        "music_features = music_df[['Danceability', 'Energy', 'Key',\n",
        "                           'Loudness', 'Mode', 'Speechiness', 'Acousticness',\n",
        "                           'Instrumentalness', 'Liveness', 'Valence', 'Tempo']].values\n",
        "music_features_scaled = scaler.fit_transform(music_features)"
      ],
      "metadata": {
        "id": "WzlnlvQuOyyK"
      },
      "execution_count": null,
      "outputs": []
    },
    {
      "cell_type": "markdown",
      "source": [
        "**Generating music recommendations**\n",
        "\n",
        "The content_based_recommendations function generates music recommendations based on the features of a given input song using content-based filtering. It takes the input song's name and the number of recommendations to return. If the input song is not found in the dataset (music_df), an error message is displayed. The function retrieves the index of the input song and calculates the cosine similarity between its audio features and those of other songs in the dataset. Based on these similarity scores, it identifies the most similar songs and returns a DataFrame containing the recommended tracks, along with their artist, album, release date, and popularity."
      ],
      "metadata": {
        "id": "d8yZIbo_-IDF"
      }
    },
    {
      "cell_type": "code",
      "source": [
        "def content_based_recommendations(input_song_name, num_recommendations=5):\n",
        "    if input_song_name not in music_df['Track Name'].values:\n",
        "        print(f\"'{input_song_name}' not found in the dataset. Please enter a valid song name.\")\n",
        "        return\n",
        "\n",
        "    input_song_index = music_df[music_df['Track Name'] == input_song_name].index[0]\n",
        "\n",
        "\n",
        "    similarity_scores = cosine_similarity([music_features_scaled[input_song_index]], music_features_scaled)\n",
        "\n",
        "    similar_song_indices = similarity_scores.argsort()[0][::-1][1:num_recommendations + 1]\n",
        "\n",
        "    content_based_recommendations = music_df.iloc[similar_song_indices][['Track Name', 'Artists', 'Album Name', 'Release Date', 'Popularity']]\n",
        "\n",
        "    return content_based_recommendations"
      ],
      "metadata": {
        "id": "UJmhS-k7PC8r"
      },
      "execution_count": null,
      "outputs": []
    },
    {
      "cell_type": "markdown",
      "source": [
        " **Combining content-based filtering and popularity weighting**\n",
        "\n",
        " The hybrid_recommendations function combines content-based filtering and popularity weighting to provide song recommendations. It starts by checking if the input song exists in the dataset (music_df). If it does, content-based recommendations are generated based on the input song’s audio features. The function then retrieves the popularity score of the input song and adjusts it using a weighted popularity score based on the song's release date. The input song is added to the recommendations, and all tracks are sorted by popularity. Finally, the input song itself is excluded from the list of recommendations, and the top tracks are returned. This hybrid approach balances feature similarity and popularity."
      ],
      "metadata": {
        "id": "AewjpyHg-jJU"
      }
    },
    {
      "cell_type": "code",
      "source": [
        "import pandas as pd\n",
        "\n",
        "def hybrid_recommendations(input_song_name, num_recommendations=5, alpha=0.5):\n",
        "    if input_song_name not in music_df['Track Name'].values:\n",
        "        print(f\"'{input_song_name}' not found in the dataset. Please enter a valid song name.\")\n",
        "        return\n",
        "\n",
        "    content_based_rec = content_based_recommendations(input_song_name, num_recommendations)\n",
        "\n",
        "    popularity_score = music_df.loc[music_df['Track Name'] == input_song_name, 'Popularity'].values[0]\n",
        "\n",
        "    weighted_popularity_score = popularity_score * calculate_weighted_popularity(\n",
        "        music_df.loc[music_df['Track Name'] == input_song_name, 'Release Date'].values[0]\n",
        "    )\n",
        "\n",
        "    new_entry = pd.DataFrame({\n",
        "        'Track Name': [input_song_name],\n",
        "        'Artists': [music_df.loc[music_df['Track Name'] == input_song_name, 'Artists'].values[0]],\n",
        "        'Album Name': [music_df.loc[music_df['Track Name'] == input_song_name, 'Album Name'].values[0]],\n",
        "        'Release Date': [music_df.loc[music_df['Track Name'] == input_song_name, 'Release Date'].values[0]],\n",
        "        'Popularity': [weighted_popularity_score]\n",
        "    })\n",
        "\n",
        "    hybrid_recommendations = pd.concat([content_based_rec, new_entry], ignore_index=True)\n",
        "\n",
        "    hybrid_recommendations = hybrid_recommendations.sort_values(by='Popularity', ascending=False)\n",
        "\n",
        "    hybrid_recommendations = hybrid_recommendations[hybrid_recommendations['Track Name'] != input_song_name]\n",
        "\n",
        "    return hybrid_recommendations"
      ],
      "metadata": {
        "id": "kD9fnADRPL2K"
      },
      "execution_count": null,
      "outputs": []
    },
    {
      "cell_type": "markdown",
      "source": [
        "**Generating recommendations**"
      ],
      "metadata": {
        "id": "oj2Y8nKV-0WG"
      }
    },
    {
      "cell_type": "code",
      "source": [
        "input_song_name = \"Khuda Jaane\"\n",
        "recommendations = hybrid_recommendations(input_song_name, num_recommendations=5)\n",
        "print(f\"Hybrid recommended songs for '{input_song_name}':\")\n",
        "print(recommendations)"
      ],
      "metadata": {
        "colab": {
          "base_uri": "https://localhost:8080/"
        },
        "id": "PO0Yhyn6PSqS",
        "outputId": "ba8b8ea9-9294-4ee3-b20f-7c8c946506fa"
      },
      "execution_count": null,
      "outputs": [
        {
          "output_type": "stream",
          "name": "stdout",
          "text": [
            "Hybrid recommended songs for 'Khuda Jaane':\n",
            "                 Track Name                                           Artists  \\\n",
            "0          Ye Tune Kya Kiya                              Pritam, Javed Bashir   \n",
            "4                  Pee Loon                             Pritam, Mohit Chauhan   \n",
            "2  Tujh Mein Rab Dikhta Hai  Salim–Sulaiman, Roop Kumar Rathod, Jaideep Sahni   \n",
            "1                Tu Hi Mera                        Pritam, Shafqat Amanat Ali   \n",
            "3                   Hosanna        A.R. Rahman, Leon D'souza, Suzanne D'Mello   \n",
            "\n",
            "                                          Album Name Release Date  Popularity  \n",
            "0              Once Upon Ay Time In Mumbai Dobaara !   2013-07-22        73.0  \n",
            "4                        Once Upon A Time In Mumbaai   2010-06-29        73.0  \n",
            "2                                Rab Ne Bana Di Jodi   2008-11-06        69.0  \n",
            "1      Jannat 2 (Original Motion Picture Soundtrack)   2012-03-30        65.0  \n",
            "3  Ekk Deewana Tha (Original Motion Picture Sound...   2012-01-04        56.0  \n"
          ]
        }
      ]
    }
  ]
}